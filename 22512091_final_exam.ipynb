{
 "cells": [
  {
   "cell_type": "code",
   "execution_count": 1,
   "metadata": {},
   "outputs": [
    {
     "name": "stderr",
     "output_type": "stream",
     "text": [
      "2023-12-09 15:47:07.313381: I tensorflow/core/platform/cpu_feature_guard.cc:193] This TensorFlow binary is optimized with oneAPI Deep Neural Network Library (oneDNN) to use the following CPU instructions in performance-critical operations:  AVX2 FMA\n",
      "To enable them in other operations, rebuild TensorFlow with the appropriate compiler flags.\n",
      "2023-12-09 15:47:07.455957: W tensorflow/compiler/xla/stream_executor/platform/default/dso_loader.cc:64] Could not load dynamic library 'libcudart.so.11.0'; dlerror: libcudart.so.11.0: cannot open shared object file: No such file or directory\n",
      "2023-12-09 15:47:07.455993: I tensorflow/compiler/xla/stream_executor/cuda/cudart_stub.cc:29] Ignore above cudart dlerror if you do not have a GPU set up on your machine.\n",
      "2023-12-09 15:47:08.294741: W tensorflow/compiler/xla/stream_executor/platform/default/dso_loader.cc:64] Could not load dynamic library 'libnvinfer.so.7'; dlerror: libnvinfer.so.7: cannot open shared object file: No such file or directory\n",
      "2023-12-09 15:47:08.294817: W tensorflow/compiler/xla/stream_executor/platform/default/dso_loader.cc:64] Could not load dynamic library 'libnvinfer_plugin.so.7'; dlerror: libnvinfer_plugin.so.7: cannot open shared object file: No such file or directory\n",
      "2023-12-09 15:47:08.294826: W tensorflow/compiler/tf2tensorrt/utils/py_utils.cc:38] TF-TRT Warning: Cannot dlopen some TensorRT libraries. If you would like to use Nvidia GPU with TensorRT, please make sure the missing libraries mentioned above are installed properly.\n",
      "/usr/lib/python3/dist-packages/requests/__init__.py:89: RequestsDependencyWarning: urllib3 (1.26.15) or chardet (3.0.4) doesn't match a supported version!\n",
      "  warnings.warn(\"urllib3 ({}) or chardet ({}) doesn't match a supported \"\n"
     ]
    }
   ],
   "source": [
    "# --- 데이터를 가져온다.\n",
    "from tensorflow.keras.datasets import mnist \n",
    "\n",
    "(X_train, y_train), (X_test, y_test)=mnist.load_data()\n",
    "\n"
   ]
  },
  {
   "cell_type": "code",
   "execution_count": 2,
   "metadata": {},
   "outputs": [
    {
     "name": "stdout",
     "output_type": "stream",
     "text": [
      "(60000, 28, 28)\n",
      "(60000,)\n",
      "(10000, 28, 28)\n"
     ]
    }
   ],
   "source": [
    "print(X_train.shape)\n",
    "print(y_train.shape)\n",
    "print(X_test.shape)"
   ]
  },
  {
   "cell_type": "code",
   "execution_count": 3,
   "metadata": {},
   "outputs": [
    {
     "name": "stdout",
     "output_type": "stream",
     "text": [
      "(10000,)\n"
     ]
    }
   ],
   "source": [
    "print(y_test.shape)"
   ]
  },
  {
   "cell_type": "code",
   "execution_count": 4,
   "metadata": {},
   "outputs": [
    {
     "name": "stderr",
     "output_type": "stream",
     "text": [
      "2023-12-09 15:47:09.765663: W tensorflow/compiler/xla/stream_executor/platform/default/dso_loader.cc:64] Could not load dynamic library 'libcudart.so.11.0'; dlerror: libcudart.so.11.0: cannot open shared object file: No such file or directory\n",
      "2023-12-09 15:47:09.765745: W tensorflow/compiler/xla/stream_executor/platform/default/dso_loader.cc:64] Could not load dynamic library 'libcublas.so.11'; dlerror: libcublas.so.11: cannot open shared object file: No such file or directory\n",
      "2023-12-09 15:47:09.765794: W tensorflow/compiler/xla/stream_executor/platform/default/dso_loader.cc:64] Could not load dynamic library 'libcublasLt.so.11'; dlerror: libcublasLt.so.11: cannot open shared object file: No such file or directory\n",
      "2023-12-09 15:47:09.765838: W tensorflow/compiler/xla/stream_executor/platform/default/dso_loader.cc:64] Could not load dynamic library 'libcufft.so.10'; dlerror: libcufft.so.10: cannot open shared object file: No such file or directory\n",
      "2023-12-09 15:47:09.765882: W tensorflow/compiler/xla/stream_executor/platform/default/dso_loader.cc:64] Could not load dynamic library 'libcurand.so.10'; dlerror: libcurand.so.10: cannot open shared object file: No such file or directory\n",
      "2023-12-09 15:47:09.765927: W tensorflow/compiler/xla/stream_executor/platform/default/dso_loader.cc:64] Could not load dynamic library 'libcusolver.so.11'; dlerror: libcusolver.so.11: cannot open shared object file: No such file or directory\n",
      "2023-12-09 15:47:09.765971: W tensorflow/compiler/xla/stream_executor/platform/default/dso_loader.cc:64] Could not load dynamic library 'libcusparse.so.11'; dlerror: libcusparse.so.11: cannot open shared object file: No such file or directory\n",
      "2023-12-09 15:47:09.766016: W tensorflow/compiler/xla/stream_executor/platform/default/dso_loader.cc:64] Could not load dynamic library 'libcudnn.so.8'; dlerror: libcudnn.so.8: cannot open shared object file: No such file or directory\n",
      "2023-12-09 15:47:09.766032: W tensorflow/core/common_runtime/gpu/gpu_device.cc:1934] Cannot dlopen some GPU libraries. Please make sure the missing libraries mentioned above are installed properly if you would like to use GPU. Follow the guide at https://www.tensorflow.org/install/gpu for how to download and setup the required libraries for your platform.\n",
      "Skipping registering GPU devices...\n",
      "2023-12-09 15:47:09.766387: I tensorflow/core/platform/cpu_feature_guard.cc:193] This TensorFlow binary is optimized with oneAPI Deep Neural Network Library (oneDNN) to use the following CPU instructions in performance-critical operations:  AVX2 FMA\n",
      "To enable them in other operations, rebuild TensorFlow with the appropriate compiler flags.\n"
     ]
    }
   ],
   "source": [
    "import tensorflow as tf \n",
    "from tensorflow.keras.models import Model \n",
    "from tensorflow.keras.layers import Input, Flatten, Dense,BatchNormalization,Activation,Dropout\n",
    "from tensorflow.keras.activations import relu, softmax \n",
    "from tensorflow.keras.losses import SparseCategoricalCrossentropy \n",
    "from tensorflow.keras.optimizers import Adam \n",
    "from tensorflow.keras.metrics import SparseCategoricalAccuracy\n",
    "\n",
    "inputs=Input(shape=(28,28))\n",
    "# Flatten 층은 이미지에 있는 픽셀의 행을 펼쳐서 일렬로 늘리는 작업만 한다.\n",
    "flatten=Flatten()(inputs)\n",
    "hidden=Dense(128,activation=relu)(flatten)\n",
    "hidden=BatchNormalization()(hidden)\n",
    "hidden=Dense(64,activation=relu)(hidden)\n",
    "hidden=Dense(32,activation=relu)(hidden)\n",
    "hidden=Dropout(0.5)(hidden)\n",
    "outputs=Dense(10,activation=softmax)(hidden)\n",
    "model=Model(inputs,outputs)"
   ]
  },
  {
   "cell_type": "code",
   "execution_count": 5,
   "metadata": {},
   "outputs": [
    {
     "name": "stdout",
     "output_type": "stream",
     "text": [
      "Model: \"model\"\n",
      "_________________________________________________________________\n",
      " Layer (type)                Output Shape              Param #   \n",
      "=================================================================\n",
      " input_1 (InputLayer)        [(None, 28, 28)]          0         \n",
      "                                                                 \n",
      " flatten (Flatten)           (None, 784)               0         \n",
      "                                                                 \n",
      " dense (Dense)               (None, 128)               100480    \n",
      "                                                                 \n",
      " batch_normalization (BatchN  (None, 128)              512       \n",
      " ormalization)                                                   \n",
      "                                                                 \n",
      " dense_1 (Dense)             (None, 64)                8256      \n",
      "                                                                 \n",
      " dense_2 (Dense)             (None, 32)                2080      \n",
      "                                                                 \n",
      " dropout (Dropout)           (None, 32)                0         \n",
      "                                                                 \n",
      " dense_3 (Dense)             (None, 10)                330       \n",
      "                                                                 \n",
      "=================================================================\n",
      "Total params: 111,658\n",
      "Trainable params: 111,402\n",
      "Non-trainable params: 256\n",
      "_________________________________________________________________\n"
     ]
    }
   ],
   "source": [
    "model.summary()"
   ]
  },
  {
   "cell_type": "markdown",
   "metadata": {},
   "source": [
    "## 모델 학습"
   ]
  },
  {
   "cell_type": "code",
   "execution_count": 6,
   "metadata": {},
   "outputs": [],
   "source": [
    "# 모델 학습 과정 정의\n",
    "model.compile(\n",
    "    loss=SparseCategoricalCrossentropy(),\n",
    "    optimizer=Adam(),\n",
    "    metrics=SparseCategoricalAccuracy(name='accuracy')\n",
    ")"
   ]
  },
  {
   "cell_type": "code",
   "execution_count": 7,
   "metadata": {},
   "outputs": [
    {
     "name": "stdout",
     "output_type": "stream",
     "text": [
      "Epoch 1/1000\n",
      "1500/1500 [==============================] - 7s 4ms/step - loss: 0.5444 - accuracy: 0.8339 - val_loss: 0.1650 - val_accuracy: 0.9516\n",
      "Epoch 2/1000\n",
      "1500/1500 [==============================] - 6s 4ms/step - loss: 0.2856 - accuracy: 0.9224 - val_loss: 0.1271 - val_accuracy: 0.9629\n",
      "Epoch 3/1000\n",
      "1500/1500 [==============================] - 6s 4ms/step - loss: 0.2231 - accuracy: 0.9367 - val_loss: 0.1387 - val_accuracy: 0.9625\n",
      "Epoch 4/1000\n",
      "1500/1500 [==============================] - 6s 4ms/step - loss: 0.1860 - accuracy: 0.9480 - val_loss: 0.1161 - val_accuracy: 0.9685\n",
      "Epoch 5/1000\n",
      "1500/1500 [==============================] - 6s 4ms/step - loss: 0.1717 - accuracy: 0.9526 - val_loss: 0.1384 - val_accuracy: 0.9682\n",
      "Epoch 6/1000\n",
      "1500/1500 [==============================] - 6s 4ms/step - loss: 0.1508 - accuracy: 0.9577 - val_loss: 0.1138 - val_accuracy: 0.9722\n",
      "Epoch 7/1000\n",
      "1500/1500 [==============================] - 6s 4ms/step - loss: 0.1331 - accuracy: 0.9630 - val_loss: 0.1266 - val_accuracy: 0.9696\n",
      "Epoch 8/1000\n",
      "1500/1500 [==============================] - 6s 4ms/step - loss: 0.1199 - accuracy: 0.9663 - val_loss: 0.1131 - val_accuracy: 0.9757\n",
      "Epoch 9/1000\n",
      "1500/1500 [==============================] - 6s 4ms/step - loss: 0.1200 - accuracy: 0.9668 - val_loss: 0.1349 - val_accuracy: 0.9738\n",
      "Epoch 10/1000\n",
      "1500/1500 [==============================] - 6s 4ms/step - loss: 0.1071 - accuracy: 0.9699 - val_loss: 0.1125 - val_accuracy: 0.9745\n",
      "Epoch 11/1000\n",
      "1500/1500 [==============================] - 6s 4ms/step - loss: 0.1070 - accuracy: 0.9708 - val_loss: 0.1071 - val_accuracy: 0.9762\n",
      "Epoch 12/1000\n",
      "1500/1500 [==============================] - 6s 4ms/step - loss: 0.1004 - accuracy: 0.9726 - val_loss: 0.1195 - val_accuracy: 0.9722\n",
      "Epoch 13/1000\n",
      "1500/1500 [==============================] - 6s 4ms/step - loss: 0.0897 - accuracy: 0.9745 - val_loss: 0.1160 - val_accuracy: 0.9761\n",
      "Epoch 14/1000\n",
      "1500/1500 [==============================] - 6s 4ms/step - loss: 0.0841 - accuracy: 0.9755 - val_loss: 0.1216 - val_accuracy: 0.9753\n",
      "Epoch 15/1000\n",
      "1500/1500 [==============================] - 6s 4ms/step - loss: 0.0902 - accuracy: 0.9740 - val_loss: 0.1242 - val_accuracy: 0.9748\n",
      "Epoch 16/1000\n",
      "1500/1500 [==============================] - 6s 4ms/step - loss: 0.0853 - accuracy: 0.9747 - val_loss: 0.1090 - val_accuracy: 0.9770\n",
      "Epoch 17/1000\n",
      "1500/1500 [==============================] - 6s 4ms/step - loss: 0.0725 - accuracy: 0.9784 - val_loss: 0.1168 - val_accuracy: 0.9772\n",
      "Epoch 18/1000\n",
      "1500/1500 [==============================] - 6s 4ms/step - loss: 0.0707 - accuracy: 0.9791 - val_loss: 0.1269 - val_accuracy: 0.9791\n",
      "Epoch 19/1000\n",
      "1500/1500 [==============================] - 6s 4ms/step - loss: 0.0692 - accuracy: 0.9800 - val_loss: 0.1162 - val_accuracy: 0.9784\n",
      "Epoch 20/1000\n",
      "1500/1500 [==============================] - 6s 4ms/step - loss: 0.0695 - accuracy: 0.9801 - val_loss: 0.1188 - val_accuracy: 0.9783\n",
      "Epoch 21/1000\n",
      "1500/1500 [==============================] - 6s 4ms/step - loss: 0.0682 - accuracy: 0.9805 - val_loss: 0.1241 - val_accuracy: 0.9768\n"
     ]
    }
   ],
   "source": [
    "\n",
    "history=model.fit(\n",
    "    X_train, y_train,\n",
    "    validation_split=0.2,\n",
    "    callbacks=tf.keras.callbacks.EarlyStopping(\n",
    "        patience=10,\n",
    "        restore_best_weights=True\n",
    "    ),\n",
    "    epochs=1000\n",
    ")"
   ]
  },
  {
   "cell_type": "code",
   "execution_count": 8,
   "metadata": {},
   "outputs": [
    {
     "data": {
      "text/html": [
       "<div>\n",
       "<style scoped>\n",
       "    .dataframe tbody tr th:only-of-type {\n",
       "        vertical-align: middle;\n",
       "    }\n",
       "\n",
       "    .dataframe tbody tr th {\n",
       "        vertical-align: top;\n",
       "    }\n",
       "\n",
       "    .dataframe thead th {\n",
       "        text-align: right;\n",
       "    }\n",
       "</style>\n",
       "<table border=\"1\" class=\"dataframe\">\n",
       "  <thead>\n",
       "    <tr style=\"text-align: right;\">\n",
       "      <th></th>\n",
       "      <th>loss</th>\n",
       "      <th>accuracy</th>\n",
       "      <th>val_loss</th>\n",
       "      <th>val_accuracy</th>\n",
       "    </tr>\n",
       "  </thead>\n",
       "  <tbody>\n",
       "    <tr>\n",
       "      <th>0</th>\n",
       "      <td>0.544420</td>\n",
       "      <td>0.833854</td>\n",
       "      <td>0.164968</td>\n",
       "      <td>0.951583</td>\n",
       "    </tr>\n",
       "    <tr>\n",
       "      <th>1</th>\n",
       "      <td>0.285611</td>\n",
       "      <td>0.922396</td>\n",
       "      <td>0.127109</td>\n",
       "      <td>0.962917</td>\n",
       "    </tr>\n",
       "    <tr>\n",
       "      <th>2</th>\n",
       "      <td>0.223118</td>\n",
       "      <td>0.936750</td>\n",
       "      <td>0.138692</td>\n",
       "      <td>0.962500</td>\n",
       "    </tr>\n",
       "    <tr>\n",
       "      <th>3</th>\n",
       "      <td>0.185957</td>\n",
       "      <td>0.948021</td>\n",
       "      <td>0.116051</td>\n",
       "      <td>0.968500</td>\n",
       "    </tr>\n",
       "    <tr>\n",
       "      <th>4</th>\n",
       "      <td>0.171661</td>\n",
       "      <td>0.952563</td>\n",
       "      <td>0.138406</td>\n",
       "      <td>0.968250</td>\n",
       "    </tr>\n",
       "    <tr>\n",
       "      <th>5</th>\n",
       "      <td>0.150768</td>\n",
       "      <td>0.957687</td>\n",
       "      <td>0.113825</td>\n",
       "      <td>0.972167</td>\n",
       "    </tr>\n",
       "    <tr>\n",
       "      <th>6</th>\n",
       "      <td>0.133143</td>\n",
       "      <td>0.963021</td>\n",
       "      <td>0.126593</td>\n",
       "      <td>0.969583</td>\n",
       "    </tr>\n",
       "    <tr>\n",
       "      <th>7</th>\n",
       "      <td>0.119914</td>\n",
       "      <td>0.966250</td>\n",
       "      <td>0.113134</td>\n",
       "      <td>0.975667</td>\n",
       "    </tr>\n",
       "    <tr>\n",
       "      <th>8</th>\n",
       "      <td>0.119994</td>\n",
       "      <td>0.966750</td>\n",
       "      <td>0.134906</td>\n",
       "      <td>0.973833</td>\n",
       "    </tr>\n",
       "    <tr>\n",
       "      <th>9</th>\n",
       "      <td>0.107150</td>\n",
       "      <td>0.969896</td>\n",
       "      <td>0.112462</td>\n",
       "      <td>0.974500</td>\n",
       "    </tr>\n",
       "    <tr>\n",
       "      <th>10</th>\n",
       "      <td>0.107037</td>\n",
       "      <td>0.970771</td>\n",
       "      <td>0.107090</td>\n",
       "      <td>0.976250</td>\n",
       "    </tr>\n",
       "    <tr>\n",
       "      <th>11</th>\n",
       "      <td>0.100421</td>\n",
       "      <td>0.972583</td>\n",
       "      <td>0.119453</td>\n",
       "      <td>0.972250</td>\n",
       "    </tr>\n",
       "    <tr>\n",
       "      <th>12</th>\n",
       "      <td>0.089674</td>\n",
       "      <td>0.974479</td>\n",
       "      <td>0.115975</td>\n",
       "      <td>0.976083</td>\n",
       "    </tr>\n",
       "    <tr>\n",
       "      <th>13</th>\n",
       "      <td>0.084121</td>\n",
       "      <td>0.975479</td>\n",
       "      <td>0.121577</td>\n",
       "      <td>0.975250</td>\n",
       "    </tr>\n",
       "    <tr>\n",
       "      <th>14</th>\n",
       "      <td>0.090188</td>\n",
       "      <td>0.974042</td>\n",
       "      <td>0.124170</td>\n",
       "      <td>0.974833</td>\n",
       "    </tr>\n",
       "    <tr>\n",
       "      <th>15</th>\n",
       "      <td>0.085321</td>\n",
       "      <td>0.974750</td>\n",
       "      <td>0.108964</td>\n",
       "      <td>0.977000</td>\n",
       "    </tr>\n",
       "    <tr>\n",
       "      <th>16</th>\n",
       "      <td>0.072505</td>\n",
       "      <td>0.978417</td>\n",
       "      <td>0.116763</td>\n",
       "      <td>0.977167</td>\n",
       "    </tr>\n",
       "    <tr>\n",
       "      <th>17</th>\n",
       "      <td>0.070676</td>\n",
       "      <td>0.979062</td>\n",
       "      <td>0.126926</td>\n",
       "      <td>0.979083</td>\n",
       "    </tr>\n",
       "    <tr>\n",
       "      <th>18</th>\n",
       "      <td>0.069170</td>\n",
       "      <td>0.980042</td>\n",
       "      <td>0.116161</td>\n",
       "      <td>0.978417</td>\n",
       "    </tr>\n",
       "    <tr>\n",
       "      <th>19</th>\n",
       "      <td>0.069523</td>\n",
       "      <td>0.980104</td>\n",
       "      <td>0.118806</td>\n",
       "      <td>0.978250</td>\n",
       "    </tr>\n",
       "    <tr>\n",
       "      <th>20</th>\n",
       "      <td>0.068238</td>\n",
       "      <td>0.980458</td>\n",
       "      <td>0.124054</td>\n",
       "      <td>0.976750</td>\n",
       "    </tr>\n",
       "  </tbody>\n",
       "</table>\n",
       "</div>"
      ],
      "text/plain": [
       "        loss  accuracy  val_loss  val_accuracy\n",
       "0   0.544420  0.833854  0.164968      0.951583\n",
       "1   0.285611  0.922396  0.127109      0.962917\n",
       "2   0.223118  0.936750  0.138692      0.962500\n",
       "3   0.185957  0.948021  0.116051      0.968500\n",
       "4   0.171661  0.952563  0.138406      0.968250\n",
       "5   0.150768  0.957687  0.113825      0.972167\n",
       "6   0.133143  0.963021  0.126593      0.969583\n",
       "7   0.119914  0.966250  0.113134      0.975667\n",
       "8   0.119994  0.966750  0.134906      0.973833\n",
       "9   0.107150  0.969896  0.112462      0.974500\n",
       "10  0.107037  0.970771  0.107090      0.976250\n",
       "11  0.100421  0.972583  0.119453      0.972250\n",
       "12  0.089674  0.974479  0.115975      0.976083\n",
       "13  0.084121  0.975479  0.121577      0.975250\n",
       "14  0.090188  0.974042  0.124170      0.974833\n",
       "15  0.085321  0.974750  0.108964      0.977000\n",
       "16  0.072505  0.978417  0.116763      0.977167\n",
       "17  0.070676  0.979062  0.126926      0.979083\n",
       "18  0.069170  0.980042  0.116161      0.978417\n",
       "19  0.069523  0.980104  0.118806      0.978250\n",
       "20  0.068238  0.980458  0.124054      0.976750"
      ]
     },
     "execution_count": 8,
     "metadata": {},
     "output_type": "execute_result"
    }
   ],
   "source": [
    "import pandas as pd\n",
    "\n",
    "hist_df=pd.DataFrame(history.history)\n",
    "hist_df "
   ]
  },
  {
   "cell_type": "code",
   "execution_count": 9,
   "metadata": {},
   "outputs": [
    {
     "data": {
      "text/plain": [
       "<AxesSubplot: title={'center': 'Loss/Val Loss'}>"
      ]
     },
     "execution_count": 9,
     "metadata": {},
     "output_type": "execute_result"
    },
    {
     "data": {
      "image/png": "[encoded data removed]",
      "text/plain": [
       "<Figure size 640x480 with 1 Axes>"
      ]
     },
     "metadata": {},
     "output_type": "display_data"
    }
   ],
   "source": [
    "hist_df[['loss','val_loss']].plot(title='Loss/Val Loss',grid=True)"
   ]
  },
  {
   "cell_type": "code",
   "execution_count": 10,
   "metadata": {},
   "outputs": [
    {
     "data": {
      "text/plain": [
       "<AxesSubplot: title={'center': 'Accuracy/Val Accuracy'}>"
      ]
     },
     "execution_count": 10,
     "metadata": {},
     "output_type": "execute_result"
    },
    {
     "data": {
      "image/png": "[encoded data removed]",
      "text/plain": [
       "<Figure size 640x480 with 1 Axes>"
      ]
     },
     "metadata": {},
     "output_type": "display_data"
    }
   ],
   "source": [
    "hist_df[['accuracy','val_accuracy']].plot(title='Accuracy/Val Accuracy',grid=True)"
   ]
  },
  {
   "cell_type": "markdown",
   "metadata": {},
   "source": [
    "## 모델 평가"
   ]
  },
  {
   "cell_type": "code",
   "execution_count": 11,
   "metadata": {},
   "outputs": [
    {
     "name": "stdout",
     "output_type": "stream",
     "text": [
      "313/313 [==============================] - 1s 2ms/step - loss: 0.1113 - accuracy: 0.9764\n"
     ]
    },
    {
     "data": {
      "text/plain": [
       "[0.11126308888196945, 0.9764000177383423]"
      ]
     },
     "execution_count": 11,
     "metadata": {},
     "output_type": "execute_result"
    }
   ],
   "source": [
    "# --- 모델 평가 (실행할 때마다 결괏값이 약간 다를 수 있다.)\n",
    "\n",
    "model.evaluate(X_test,y_test)"
   ]
  },
  {
   "cell_type": "markdown",
   "metadata": {},
   "source": [
    "#### 간단한 논의\n",
    "\n",
    "모델이 테스트 데이터를 평가한 결과 0.9764로 매우 높은 정확도가 나왔다. 그리고\n",
    "\n",
    "검증 데이터와 테스트 데이터의 정확도 차이가 크지 않아 모델이 새로운 데이터에 대해서도 \n",
    "\n",
    "일반화가 잘 되었다고 볼 수 있다."
   ]
  },
  {
   "cell_type": "markdown",
   "metadata": {},
   "source": [
    "## 모델 저장"
   ]
  },
  {
   "cell_type": "code",
   "execution_count": 12,
   "metadata": {},
   "outputs": [
    {
     "name": "stdout",
     "output_type": "stream",
     "text": [
      "/dshome/WoongLab/heo/final_machinelearning_deeplearning_exam\n"
     ]
    }
   ],
   "source": [
    "%cd /dshome/WoongLab/heo/final_machinelearning_deeplearning_exam"
   ]
  },
  {
   "cell_type": "code",
   "execution_count": 13,
   "metadata": {},
   "outputs": [],
   "source": [
    "# 학습한 모델을 저장한다.\n",
    "\n",
    "model.save(f'minist.keras')"
   ]
  }
 ],
 "metadata": {
  "kernelspec": {
   "display_name": "Python 3",
   "language": "python",
   "name": "python3"
  },
  "language_info": {
   "codemirror_mode": {
    "name": "ipython",
    "version": 3
   },
   "file_extension": ".py",
   "mimetype": "text/x-python",
   "name": "python",
   "nbconvert_exporter": "python",
   "pygments_lexer": "ipython3",
   "version": "3.8.10"
  }
 },
 "nbformat": 4,
 "nbformat_minor": 2
}
